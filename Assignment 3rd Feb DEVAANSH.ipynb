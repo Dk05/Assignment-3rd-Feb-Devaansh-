{
 "cells": [
  {
   "cell_type": "code",
   "execution_count": null,
   "id": "151fcc2a",
   "metadata": {},
   "outputs": [
    {
     "name": "stdout",
     "output_type": "stream",
     "text": [
      "  :   ENTER NUMBERS  :  \n",
      "\n"
     ]
    }
   ],
   "source": [
    "#ANS : 1\n",
    "'''Def is the keyword for creating user defined functions in python'''\n",
    "\n",
    "def addition():\n",
    "    n = print(\"  :   ENTER NUMBERS  :  \\n\")\n",
    "    a=[]\n",
    "    c=[]\n",
    "    sum = 0 \n",
    "    for i in range(1,25):\n",
    "        b = int(input())\n",
    "        a.append(b)\n",
    "    print(a)\n",
    "    sum = sum + 1\n",
    "    c.append(sum)\n",
    "    print(c)\n",
    "addition()    \n",
    "    "
   ]
  },
  {
   "cell_type": "code",
   "execution_count": null,
   "id": "ca7877a6",
   "metadata": {},
   "outputs": [],
   "source": [
    "#ANS 2 :\n",
    "'''Python args (*) is used to pass NON-keyword variable in case of uncertainity about formal arguments\n",
    "   Python kwargs (**) is used to pass A keyword variable in case of uncertainity about formal arguments '''\n",
    "\n",
    "def PRODUCT(*itr):\n",
    "    product = 1\n",
    "    for i in itr:\n",
    "        product = product * i\n",
    "\n",
    "    print(\"PRODUCT OF NUMBERS : \\n\",product)\n",
    "\n",
    "PRODUCT(2,2)\n",
    "PRODUCT(2,2,2,2)\n",
    "PRODUCT(2,2,2,2,3,3,3,3)\n",
    "print(\"\\n\")\n",
    "print(\"----------STUDENT DETAILS----------\")\n",
    "print(\"\\n\")\n",
    "\n",
    "def DETAILS(**students):\n",
    "    for i in students.items():\n",
    "        print(i)\n",
    "        print(\"\\n\")\n",
    "    print()\n",
    "\n",
    "DETAILS(NAME=\"DEVAANSH\", ENROLL=\"04017702021\")\n",
    "DETAILS(NAME=\"UTKARSH\", Roll=\"041017702021\")"
   ]
  },
  {
   "cell_type": "code",
   "execution_count": null,
   "id": "db05b5ce",
   "metadata": {},
   "outputs": [],
   "source": [
    "#ANS 3 :\n",
    "''' Iterator is an object in python used to iterate the values in loop\n",
    "    iter() is the function thats makes a variable Iterator\n",
    "    next() is the function thats prints the next iterator item '''\n",
    "    \n",
    "list1 = [2,4,6,8,10,12,14,16,18]\n",
    "n = iter(list1)\n",
    "\n",
    "print(next(n))\n",
    "print(next(n))\n",
    "print(next(n))\n",
    "print(next(n))\n",
    "print(next(n))"
   ]
  },
  {
   "cell_type": "code",
   "execution_count": null,
   "id": "cd704589",
   "metadata": {},
   "outputs": [],
   "source": [
    "#ANS 4 :\n",
    "''' Generator function in the python is an iterated object \n",
    "    created to iterate values when working with very large data '''\n",
    "    \n",
    "def GGenerator(n):\n",
    "    number = 0\n",
    "    while (number < n):\n",
    "        yield number\n",
    "        number = number + 1\n",
    "        \n",
    "for number in GGenerator(9):\n",
    "    print(number)\n",
    "        \n",
    "    "
   ]
  },
  {
   "cell_type": "code",
   "execution_count": null,
   "id": "b9ba52c5",
   "metadata": {},
   "outputs": [],
   "source": [
    "#ANS 6 :\n",
    "def fibonnaci(n):\n",
    "    a = 0\n",
    "    b = 1\n",
    "    if(n == 1):\n",
    "        print(a)\n",
    "    else:\n",
    "        print(a)\n",
    "        print(b)\n",
    "        for i in range(2,n):\n",
    "            c = a + b\n",
    "            a = b\n",
    "            b = c\n",
    "            print(c)\n",
    "fibonnaci(12)          "
   ]
  },
  {
   "cell_type": "code",
   "execution_count": null,
   "id": "f716380a",
   "metadata": {},
   "outputs": [],
   "source": [
    "#ANS 7 :\n",
    "string = [string for string in \"pwskills\"]\n",
    "print(string)\n",
    "    "
   ]
  },
  {
   "cell_type": "code",
   "execution_count": null,
   "id": "204f2203",
   "metadata": {},
   "outputs": [],
   "source": [
    "#ANS 8 :\n",
    "num = (input(\"ENTER A NUMBER: \\n\"))\n",
    "NUM = int(str(num[::-1]))\n",
    "\n",
    "if(num == NUM):\n",
    "    print(\"ENTERED NUMBER IS NOT A PALINDROME NUMBER\")\n",
    "else:\n",
    "    print(\"ENTERED NUMBER IS A PALINDROME NUMBER\")\n",
    "       "
   ]
  },
  {
   "cell_type": "code",
   "execution_count": null,
   "id": "0977c281",
   "metadata": {},
   "outputs": [],
   "source": [
    "# ANS 9 :\n",
    "num = [num for num in range(1,101) if(num%2 != 0) ]\n",
    "print(num)\n"
   ]
  }
 ],
 "metadata": {
  "kernelspec": {
   "display_name": "Python 3 (ipykernel)",
   "language": "python",
   "name": "python3"
  },
  "language_info": {
   "codemirror_mode": {
    "name": "ipython",
    "version": 3
   },
   "file_extension": ".py",
   "mimetype": "text/x-python",
   "name": "python",
   "nbconvert_exporter": "python",
   "pygments_lexer": "ipython3",
   "version": "3.11.3"
  }
 },
 "nbformat": 4,
 "nbformat_minor": 5
}
